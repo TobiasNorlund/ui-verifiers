{
 "cells": [
  {
   "cell_type": "markdown",
   "metadata": {},
   "source": [
    "# Trajectory Analysis\n",
    "\n",
    "This notebook provides tools for analyzing collected trajectories from UI VLM training."
   ]
  },
  {
   "cell_type": "code",
   "execution_count": null,
   "metadata": {},
   "outputs": [],
   "source": "import sys\nimport json\nfrom pathlib import Path\nimport matplotlib.pyplot as plt\nimport numpy as np\nimport pandas as pd\n\n# Add src to path\nsys.path.insert(0, str(Path.cwd().parent))\n\nfrom src.data_utils.trajectory import Trajectory\n\nprint(\"Imports successful!\")"
  },
  {
   "cell_type": "markdown",
   "metadata": {},
   "source": [
    "## Load Trajectories"
   ]
  },
  {
   "cell_type": "code",
   "execution_count": null,
   "metadata": {},
   "outputs": [],
   "source": [
    "# Load trajectory files\n",
    "trajectory_dir = Path(\"../experiments/exp_001_rejection_sampling/trajectories\")\n",
    "trajectory_files = list(trajectory_dir.glob(\"*.json\"))\n",
    "\n",
    "print(f\"Found {len(trajectory_files)} trajectory files\")\n",
    "\n",
    "# Load trajectories\n",
    "trajectories = []\n",
    "for traj_file in trajectory_files[:100]:  # Load first 100\n",
    "    with open(traj_file, 'r') as f:\n",
    "        data = json.load(f)\n",
    "        trajectories.append(Trajectory.from_dict(data))\n",
    "\n",
    "print(f\"Loaded {len(trajectories)} trajectories\")"
   ]
  },
  {
   "cell_type": "markdown",
   "metadata": {},
   "source": [
    "## Basic Statistics"
   ]
  },
  {
   "cell_type": "code",
   "execution_count": null,
   "metadata": {},
   "outputs": [],
   "source": [
    "# Calculate basic statistics\n",
    "lengths = [len(t) for t in trajectories]\n",
    "total_rewards = [sum(t.rewards) for t in trajectories]\n",
    "avg_rewards = [sum(t.rewards) / len(t.rewards) if t.rewards else 0 for t in trajectories]\n",
    "\n",
    "stats = {\n",
    "    'num_trajectories': len(trajectories),\n",
    "    'avg_length': np.mean(lengths),\n",
    "    'std_length': np.std(lengths),\n",
    "    'avg_total_reward': np.mean(total_rewards),\n",
    "    'std_total_reward': np.std(total_rewards),\n",
    "    'avg_step_reward': np.mean(avg_rewards),\n",
    "    'success_rate': np.mean([r > 0 for r in total_rewards])\n",
    "}\n",
    "\n",
    "pd.DataFrame([stats]).T"
   ]
  },
  {
   "cell_type": "markdown",
   "metadata": {},
   "source": [
    "## Visualizations"
   ]
  },
  {
   "cell_type": "code",
   "execution_count": null,
   "metadata": {},
   "outputs": [],
   "source": [
    "# Plot reward distribution\n",
    "fig, axes = plt.subplots(2, 2, figsize=(12, 10))\n",
    "\n",
    "# Trajectory lengths\n",
    "axes[0, 0].hist(lengths, bins=30, edgecolor='black')\n",
    "axes[0, 0].set_xlabel('Trajectory Length')\n",
    "axes[0, 0].set_ylabel('Count')\n",
    "axes[0, 0].set_title('Distribution of Trajectory Lengths')\n",
    "axes[0, 0].axvline(np.mean(lengths), color='red', linestyle='--', label=f'Mean: {np.mean(lengths):.1f}')\n",
    "axes[0, 0].legend()\n",
    "\n",
    "# Total rewards\n",
    "axes[0, 1].hist(total_rewards, bins=30, edgecolor='black')\n",
    "axes[0, 1].set_xlabel('Total Reward')\n",
    "axes[0, 1].set_ylabel('Count')\n",
    "axes[0, 1].set_title('Distribution of Total Rewards')\n",
    "axes[0, 1].axvline(np.mean(total_rewards), color='red', linestyle='--', label=f'Mean: {np.mean(total_rewards):.2f}')\n",
    "axes[0, 1].legend()\n",
    "\n",
    "# Average rewards per step\n",
    "axes[1, 0].hist(avg_rewards, bins=30, edgecolor='black')\n",
    "axes[1, 0].set_xlabel('Average Reward per Step')\n",
    "axes[1, 0].set_ylabel('Count')\n",
    "axes[1, 0].set_title('Distribution of Average Step Rewards')\n",
    "axes[1, 0].axvline(np.mean(avg_rewards), color='red', linestyle='--', label=f'Mean: {np.mean(avg_rewards):.2f}')\n",
    "axes[1, 0].legend()\n",
    "\n",
    "# Reward vs length scatter\n",
    "axes[1, 1].scatter(lengths, total_rewards, alpha=0.5)\n",
    "axes[1, 1].set_xlabel('Trajectory Length')\n",
    "axes[1, 1].set_ylabel('Total Reward')\n",
    "axes[1, 1].set_title('Reward vs Length')\n",
    "\n",
    "plt.tight_layout()\n",
    "plt.show()"
   ]
  },
  {
   "cell_type": "markdown",
   "metadata": {},
   "source": [
    "## Action Analysis"
   ]
  },
  {
   "cell_type": "code",
   "execution_count": null,
   "metadata": {},
   "outputs": [],
   "source": [
    "# Extract all actions\n",
    "all_actions = [action for traj in trajectories for action in traj.actions]\n",
    "\n",
    "print(f\"Total actions: {len(all_actions)}\")\n",
    "print(f\"\\nSample actions:\")\n",
    "for action in all_actions[:10]:\n",
    "    print(f\"  {action}\")"
   ]
  },
  {
   "cell_type": "markdown",
   "metadata": {},
   "source": [
    "## Success Analysis"
   ]
  },
  {
   "cell_type": "code",
   "execution_count": null,
   "metadata": {},
   "outputs": [],
   "source": [
    "# Analyze successful vs failed trajectories\n",
    "success_threshold = 0.5\n",
    "successful = [t for t in trajectories if sum(t.rewards) > success_threshold]\n",
    "failed = [t for t in trajectories if sum(t.rewards) <= success_threshold]\n",
    "\n",
    "print(f\"Successful trajectories: {len(successful)} ({len(successful)/len(trajectories)*100:.1f}%)\")\n",
    "print(f\"Failed trajectories: {len(failed)} ({len(failed)/len(trajectories)*100:.1f}%)\")\n",
    "\n",
    "if successful and failed:\n",
    "    print(f\"\\nAverage length - Successful: {np.mean([len(t) for t in successful]):.1f}\")\n",
    "    print(f\"Average length - Failed: {np.mean([len(t) for t in failed]):.1f}\")"
   ]
  }
 ],
 "metadata": {
  "kernelspec": {
   "display_name": "Python 3",
   "language": "python",
   "name": "python3"
  },
  "language_info": {
   "codemirror_mode": {
    "name": "ipython",
    "version": 3
   },
   "file_extension": ".py",
   "mimetype": "text/x-python",
   "name": "python",
   "nbconvert_exporter": "python",
   "pygments_lexer": "ipython3",
   "version": "3.10.0"
  }
 },
 "nbformat": 4,
 "nbformat_minor": 4
}